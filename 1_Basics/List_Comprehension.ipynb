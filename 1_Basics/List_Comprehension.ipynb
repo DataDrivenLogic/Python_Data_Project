{
  "nbformat": 4,
  "nbformat_minor": 0,
  "metadata": {
    "colab": {
      "provenance": []
    },
    "kernelspec": {
      "name": "python3",
      "display_name": "Python 3"
    },
    "language_info": {
      "name": "python"
    }
  },
  "cells": [
    {
      "cell_type": "code",
      "execution_count": null,
      "metadata": {
        "id": "D6lfC8qVsbO6"
      },
      "outputs": [],
      "source": [
        "nums = [12, 7, 25, 30, 18, 5, 42, 11, 9, 20, 33, 27,9,45, 8, 16]\n"
      ]
    },
    {
      "cell_type": "code",
      "source": [
        "Square = [x**2 for x in nums]\n",
        "Square"
      ],
      "metadata": {
        "colab": {
          "base_uri": "https://localhost:8080/"
        },
        "id": "yMVbilRJscqd",
        "outputId": "e1f1079a-8958-4014-cda9-227226b2c93b"
      },
      "execution_count": null,
      "outputs": [
        {
          "output_type": "execute_result",
          "data": {
            "text/plain": [
              "[144, 49, 625, 900, 324, 25, 1764, 121, 81, 400, 1089, 729, 2025, 64, 256]"
            ]
          },
          "metadata": {},
          "execution_count": 4
        }
      ]
    },
    {
      "cell_type": "code",
      "source": [
        "Even = [x for x in nums if x % 2==0]\n",
        "Even"
      ],
      "metadata": {
        "colab": {
          "base_uri": "https://localhost:8080/"
        },
        "id": "jyH-RBX9smNy",
        "outputId": "84f5c6d3-96ae-44ce-c6d6-55aa260279ad"
      },
      "execution_count": null,
      "outputs": [
        {
          "output_type": "execute_result",
          "data": {
            "text/plain": [
              "[12, 30, 18, 42, 20, 8, 16]"
            ]
          },
          "metadata": {},
          "execution_count": 12
        }
      ]
    },
    {
      "cell_type": "code",
      "source": [
        "Greater_num = [x for x in nums if x > 20]\n",
        "Greater_num"
      ],
      "metadata": {
        "colab": {
          "base_uri": "https://localhost:8080/"
        },
        "id": "9JZoXGJfs2bL",
        "outputId": "ccc05b09-8e6a-466a-a47d-2873345c0d36"
      },
      "execution_count": null,
      "outputs": [
        {
          "output_type": "execute_result",
          "data": {
            "text/plain": [
              "[25, 30, 42, 33, 27, 45]"
            ]
          },
          "metadata": {},
          "execution_count": 13
        }
      ]
    },
    {
      "cell_type": "code",
      "source": [
        "odd_even = ['Even' if x % 2 == 0 else 'Odd' for x in nums ]\n",
        "print(odd_even)"
      ],
      "metadata": {
        "colab": {
          "base_uri": "https://localhost:8080/"
        },
        "id": "xy2py29JtTvt",
        "outputId": "63606cbe-227f-4e72-9c38-56a79c1c1770"
      },
      "execution_count": null,
      "outputs": [
        {
          "output_type": "stream",
          "name": "stdout",
          "text": [
            "['Even', 'Odd', 'Odd', 'Even', 'Even', 'Odd', 'Even', 'Odd', 'Odd', 'Even', 'Odd', 'Odd', 'Odd', 'Even', 'Even']\n"
          ]
        }
      ]
    },
    {
      "cell_type": "code",
      "source": [
        "division = [x/5 for x in nums]\n",
        "division"
      ],
      "metadata": {
        "colab": {
          "base_uri": "https://localhost:8080/"
        },
        "id": "pJwV1gI4tqmA",
        "outputId": "67019a69-d637-4f2f-97c2-64132c94c040"
      },
      "execution_count": null,
      "outputs": [
        {
          "output_type": "execute_result",
          "data": {
            "text/plain": [
              "[2.4, 1.4, 5.0, 6.0, 3.6, 1.0, 8.4, 2.2, 1.8, 4.0, 6.6, 5.4, 9.0, 1.6, 3.2]"
            ]
          },
          "metadata": {},
          "execution_count": 20
        }
      ]
    },
    {
      "cell_type": "code",
      "source": [
        "list_of_tuples = [(x,x*2) for x in nums]\n",
        "list_of_tuples"
      ],
      "metadata": {
        "colab": {
          "base_uri": "https://localhost:8080/"
        },
        "id": "nBL05zrquaMb",
        "outputId": "fd117eaf-6b47-4f29-d811-2bb40aeb882c"
      },
      "execution_count": null,
      "outputs": [
        {
          "output_type": "execute_result",
          "data": {
            "text/plain": [
              "[(12, 24),\n",
              " (7, 14),\n",
              " (25, 50),\n",
              " (30, 60),\n",
              " (18, 36),\n",
              " (5, 10),\n",
              " (42, 84),\n",
              " (11, 22),\n",
              " (9, 18),\n",
              " (20, 40),\n",
              " (33, 66),\n",
              " (27, 54),\n",
              " (45, 90),\n",
              " (8, 16),\n",
              " (16, 32)]"
            ]
          },
          "metadata": {},
          "execution_count": 22
        }
      ]
    },
    {
      "cell_type": "code",
      "source": [
        "extract_first = [str(x)[0] for x in nums]\n",
        "extract_first"
      ],
      "metadata": {
        "colab": {
          "base_uri": "https://localhost:8080/"
        },
        "id": "IqG1bkMmutB_",
        "outputId": "9ddb507e-2710-439c-d8c7-33160c0e3b79"
      },
      "execution_count": null,
      "outputs": [
        {
          "output_type": "execute_result",
          "data": {
            "text/plain": [
              "['1', '7', '2', '3', '1', '5', '4', '1', '9', '2', '3', '2', '4', '8', '1']"
            ]
          },
          "metadata": {},
          "execution_count": 25
        }
      ]
    },
    {
      "cell_type": "code",
      "source": [
        "digit_sum = [sum(int(d) for d in str(x)) for x in nums]\n",
        "digit_sum"
      ],
      "metadata": {
        "colab": {
          "base_uri": "https://localhost:8080/"
        },
        "id": "cTLo_lBPvYLx",
        "outputId": "22f4e357-03da-4f90-f2aa-d75066af02ad"
      },
      "execution_count": null,
      "outputs": [
        {
          "output_type": "execute_result",
          "data": {
            "text/plain": [
              "[3, 7, 7, 3, 9, 5, 6, 2, 9, 2, 6, 9, 9, 8, 7]"
            ]
          },
          "metadata": {},
          "execution_count": 29
        }
      ]
    },
    {
      "cell_type": "code",
      "source": [
        "unique = list(dict.fromkeys(nums))\n",
        "print('Orginal list:', nums)\n",
        "print('unique list:',unique)"
      ],
      "metadata": {
        "id": "CB9RxJ-OwBAC",
        "colab": {
          "base_uri": "https://localhost:8080/"
        },
        "outputId": "7da38311-c58f-46dc-fe87-57bce76d45ae"
      },
      "execution_count": null,
      "outputs": [
        {
          "output_type": "stream",
          "name": "stdout",
          "text": [
            "Orginal list: [12, 7, 25, 30, 18, 5, 42, 11, 9, 20, 33, 27, 9, 45, 8, 16]\n",
            "unique list: [12, 7, 25, 30, 18, 5, 42, 11, 9, 20, 33, 27, 45, 8, 16]\n"
          ]
        }
      ]
    },
    {
      "cell_type": "code",
      "source": [
        "stringify = \", \".join([f\"Num_{x}\" for x in nums])\n",
        "stringify\n"
      ],
      "metadata": {
        "colab": {
          "base_uri": "https://localhost:8080/",
          "height": 36
        },
        "id": "ca9DuwIk_ycj",
        "outputId": "ce2f8e62-66a9-48b1-f516-566c274b266b"
      },
      "execution_count": null,
      "outputs": [
        {
          "output_type": "execute_result",
          "data": {
            "text/plain": [
              "'Num_12, Num_7, Num_25, Num_30, Num_18, Num_5, Num_42, Num_11, Num_9, Num_20, Num_33, Num_27, Num_9, Num_45, Num_8, Num_16'"
            ],
            "application/vnd.google.colaboratory.intrinsic+json": {
              "type": "string"
            }
          },
          "metadata": {},
          "execution_count": 46
        }
      ]
    },
    {
      "cell_type": "markdown",
      "source": [
        "#User Defined Function"
      ],
      "metadata": {
        "id": "6RVNi0CbQxCU"
      }
    },
    {
      "cell_type": "code",
      "source": [
        "def my_func():\n",
        "  return [x for x in nums if x % 2 ==0]\n"
      ],
      "metadata": {
        "id": "GAkn1pwiCQ-5"
      },
      "execution_count": null,
      "outputs": []
    },
    {
      "cell_type": "code",
      "source": [
        "my_func()"
      ],
      "metadata": {
        "colab": {
          "base_uri": "https://localhost:8080/"
        },
        "id": "Kd3zYktYNz_c",
        "outputId": "a42fca67-ea7d-42fb-b766-3a128d072ed0"
      },
      "execution_count": null,
      "outputs": [
        {
          "output_type": "execute_result",
          "data": {
            "text/plain": [
              "[12, 30, 18, 42, 20, 8, 16]"
            ]
          },
          "metadata": {},
          "execution_count": 53
        }
      ]
    },
    {
      "cell_type": "code",
      "source": [
        "def max_of_three(a,b,c):\n",
        "  if a>=b and a>=c:\n",
        "    return a\n",
        "  if b>=a and b>=c:\n",
        "    return b\n",
        "  else:\n",
        "    return c"
      ],
      "metadata": {
        "id": "wTkMPWvLN2dc"
      },
      "execution_count": null,
      "outputs": []
    },
    {
      "cell_type": "code",
      "source": [
        "max_of_three(12,15,9)"
      ],
      "metadata": {
        "colab": {
          "base_uri": "https://localhost:8080/"
        },
        "id": "k7V8rYj5PenT",
        "outputId": "0193c28d-7c44-4bac-bdbe-1434f9d45658"
      },
      "execution_count": null,
      "outputs": [
        {
          "output_type": "execute_result",
          "data": {
            "text/plain": [
              "15"
            ]
          },
          "metadata": {},
          "execution_count": 62
        }
      ]
    },
    {
      "cell_type": "code",
      "source": [
        "def factorial(n):\n",
        "    result = 1\n",
        "    for i in range(1, n+1):\n",
        "        result *= i\n",
        "    return result"
      ],
      "metadata": {
        "id": "nta17XCxPijM"
      },
      "execution_count": null,
      "outputs": []
    },
    {
      "cell_type": "code",
      "source": [
        "factorial(5)"
      ],
      "metadata": {
        "colab": {
          "base_uri": "https://localhost:8080/"
        },
        "id": "8xU-1i1ZS640",
        "outputId": "c9b69f06-4003-4494-92db-6fdb5b433bd7"
      },
      "execution_count": null,
      "outputs": [
        {
          "output_type": "execute_result",
          "data": {
            "text/plain": [
              "120"
            ]
          },
          "metadata": {},
          "execution_count": 64
        }
      ]
    },
    {
      "cell_type": "code",
      "source": [
        "def reversed_string(s):\n",
        "  return s[::-1]"
      ],
      "metadata": {
        "id": "uFumwpQRS_5f"
      },
      "execution_count": null,
      "outputs": []
    },
    {
      "cell_type": "code",
      "source": [
        "reversed_string('Python')"
      ],
      "metadata": {
        "colab": {
          "base_uri": "https://localhost:8080/",
          "height": 36
        },
        "id": "fGOPduECTOlc",
        "outputId": "630f7f9d-f89e-4e33-ed7b-639be334a442"
      },
      "execution_count": null,
      "outputs": [
        {
          "output_type": "execute_result",
          "data": {
            "text/plain": [
              "'nohtyP'"
            ],
            "application/vnd.google.colaboratory.intrinsic+json": {
              "type": "string"
            }
          },
          "metadata": {},
          "execution_count": 66
        }
      ]
    },
    {
      "cell_type": "code",
      "source": [
        "reversed_string('Hello')"
      ],
      "metadata": {
        "colab": {
          "base_uri": "https://localhost:8080/",
          "height": 36
        },
        "id": "a1GQU5qvTTKW",
        "outputId": "d87f27da-265a-49cf-bb45-ec1c70446701"
      },
      "execution_count": null,
      "outputs": [
        {
          "output_type": "execute_result",
          "data": {
            "text/plain": [
              "'olleH'"
            ],
            "application/vnd.google.colaboratory.intrinsic+json": {
              "type": "string"
            }
          },
          "metadata": {},
          "execution_count": 73
        }
      ]
    },
    {
      "cell_type": "code",
      "source": [],
      "metadata": {
        "id": "XdjIPkMFTYzF"
      },
      "execution_count": null,
      "outputs": []
    }
  ]
}